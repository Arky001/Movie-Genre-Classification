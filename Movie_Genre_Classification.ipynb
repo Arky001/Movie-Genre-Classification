{
  "nbformat": 4,
  "nbformat_minor": 0,
  "metadata": {
    "colab": {
      "provenance": [],
      "authorship_tag": "ABX9TyN2gjo1oxjPwW5Cx2flgsLf",
      "include_colab_link": true
    },
    "kernelspec": {
      "name": "python3",
      "display_name": "Python 3"
    },
    "language_info": {
      "name": "python"
    }
  },
  "cells": [
    {
      "cell_type": "markdown",
      "metadata": {
        "id": "view-in-github",
        "colab_type": "text"
      },
      "source": [
        "<a href=\"https://colab.research.google.com/github/Arky001/Movie-Genre-Classification/blob/main/Movie_Genre_Classification.ipynb\" target=\"_parent\"><img src=\"https://colab.research.google.com/assets/colab-badge.svg\" alt=\"Open In Colab\"/></a>"
      ]
    },
    {
      "cell_type": "markdown",
      "source": [
        "**Mount Google Drive**"
      ],
      "metadata": {
        "id": "Y27VuLi2Y8gR"
      }
    },
    {
      "cell_type": "code",
      "execution_count": 1,
      "metadata": {
        "id": "nm9xvbKCRQRm",
        "colab": {
          "base_uri": "https://localhost:8080/"
        },
        "outputId": "0df0b4b5-4d0d-4ea6-8e1f-a7ba39f4494f"
      },
      "outputs": [
        {
          "output_type": "stream",
          "name": "stdout",
          "text": [
            "Mounted at /content/drive\n"
          ]
        }
      ],
      "source": [
        "# Mount Google Drive to access dataset\n",
        "from google.colab import drive\n",
        "drive.mount('/content/drive', force_remount=True)"
      ]
    },
    {
      "cell_type": "markdown",
      "source": [
        "**Load Dataset**"
      ],
      "metadata": {
        "id": "H0tSj-PBY-po"
      }
    },
    {
      "cell_type": "code",
      "source": [
        "# Dataset files from Google Drive\n",
        "train_path = '/content/drive/MyDrive/Genre-Classification-Dataset/train_data.txt'\n",
        "test_path = '/content/drive/MyDrive/Genre-Classification-Dataset/test_data.txt'\n",
        "solution_path = '/content/drive/MyDrive/Genre-Classification-Dataset/test_data_solution.txt'\n"
      ],
      "metadata": {
        "id": "03_sArXyYPHe"
      },
      "execution_count": 2,
      "outputs": []
    },
    {
      "cell_type": "markdown",
      "source": [
        "**Import Required Libraries**"
      ],
      "metadata": {
        "id": "t0RQw3BkY4HT"
      }
    },
    {
      "cell_type": "code",
      "source": [
        "import pandas as pd\n",
        "import numpy as np\n",
        "import matplotlib.pyplot as plt"
      ],
      "metadata": {
        "id": "LiSxy_nMYmiC"
      },
      "execution_count": 3,
      "outputs": []
    },
    {
      "cell_type": "markdown",
      "source": [
        "**Load and Preprocess Data**"
      ],
      "metadata": {
        "id": "cT7UKS1jZB-l"
      }
    },
    {
      "cell_type": "code",
      "source": [
        "# Load training data (with ID, TITLE, GENRE, DESCRIPTION)\n",
        "train_df = pd.read_csv(train_path, sep=':::', engine='python', names=['ID', 'Title', 'Genre', 'Description'])\n",
        "\n",
        "# Load test data (with ID, TITLE, DESCRIPTION)\n",
        "test_df = pd.read_csv(test_path, sep=':::', engine='python', names=['ID', 'Title', 'Description'])\n",
        "\n",
        "# Load test solution data (with ID, GENRE)\n",
        "solution_df = pd.read_csv(solution_path, sep=':::', engine='python', names=['ID', 'Genre'])\n",
        "\n",
        "# Display first few rows of each\n",
        "print(\"Train Data:\")\n",
        "print(train_df.head())\n",
        "\n",
        "print(\"\\nTest Data:\")\n",
        "print(test_df.head())\n",
        "\n",
        "print(\"\\nTest Data Solution:\")\n",
        "print(solution_df.head())\n"
      ],
      "metadata": {
        "colab": {
          "base_uri": "https://localhost:8080/"
        },
        "id": "bB-KXE0CY0ab",
        "outputId": "d5bcec0d-2c64-4947-cb89-ccf464351bfc"
      },
      "execution_count": 6,
      "outputs": [
        {
          "output_type": "stream",
          "name": "stdout",
          "text": [
            "Train Data:\n",
            "   ID                               Title       Genre  \\\n",
            "0   1       Oscar et la dame rose (2009)       drama    \n",
            "1   2                       Cupid (1997)    thriller    \n",
            "2   3   Young, Wild and Wonderful (1980)       adult    \n",
            "3   4              The Secret Sin (1915)       drama    \n",
            "4   5             The Unrecovered (2007)       drama    \n",
            "\n",
            "                                         Description  \n",
            "0   Listening in to a conversation between his do...  \n",
            "1   A brother and sister with a past incestuous r...  \n",
            "2   As the bus empties the students for their fie...  \n",
            "3   To help their unemployed father make ends mee...  \n",
            "4   The film's title refers not only to the un-re...  \n",
            "\n",
            "Test Data:\n",
            "   ID                          Title  \\\n",
            "0   1          Edgar's Lunch (1998)    \n",
            "1   2      La guerra de papá (1977)    \n",
            "2   3   Off the Beaten Track (2010)    \n",
            "3   4        Meu Amigo Hindu (2015)    \n",
            "4   5             Er nu zhai (1955)    \n",
            "\n",
            "                                         Description  \n",
            "0   L.R. Brane loves his life - his car, his apar...  \n",
            "1   Spain, March 1964: Quico is a very naughty ch...  \n",
            "2   One year in the life of Albin and his family ...  \n",
            "3   His father has died, he hasn't spoken with hi...  \n",
            "4   Before he was known internationally as a mart...  \n",
            "\n",
            "Test Data Solution:\n",
            "                                           ID  \\\n",
            "1 Edgar's Lunch (1998)              thriller    \n",
            "2 La guerra de papá (1977)            comedy    \n",
            "3 Off the Beaten Track (2010)    documentary    \n",
            "4 Meu Amigo Hindu (2015)               drama    \n",
            "5 Er nu zhai (1955)                    drama    \n",
            "\n",
            "                                                                            Genre  \n",
            "1 Edgar's Lunch (1998)           L.R. Brane loves his life - his car, his apar...  \n",
            "2 La guerra de papá (1977)       Spain, March 1964: Quico is a very naughty ch...  \n",
            "3 Off the Beaten Track (2010)    One year in the life of Albin and his family ...  \n",
            "4 Meu Amigo Hindu (2015)         His father has died, he hasn't spoken with hi...  \n",
            "5 Er nu zhai (1955)              Before he was known internationally as a mart...  \n"
          ]
        }
      ]
    },
    {
      "cell_type": "markdown",
      "source": [
        "**Text Cleaning + Genre Splitting**"
      ],
      "metadata": {
        "id": "0rYVQD6ugRT6"
      }
    },
    {
      "cell_type": "code",
      "source": [
        "import re\n",
        "import nltk\n",
        "nltk.download('stopwords')\n",
        "from nltk.corpus import stopwords\n",
        "from nltk.stem import PorterStemmer\n",
        "\n",
        "# Initialize tools\n",
        "stop_words = set(stopwords.words('english'))\n",
        "stemmer = PorterStemmer()\n",
        "\n",
        "# Basic text cleaning function\n",
        "def clean_text(text):\n",
        "    text = text.lower()\n",
        "    text = re.sub(r'[^a-z\\s]', '', text)  # remove punctuation and numbers\n",
        "    text = \" \".join([stemmer.stem(word) for word in text.split() if word not in stop_words])\n",
        "    return text\n",
        "\n",
        "# Apply cleaning to descriptions\n",
        "train_df['Cleaned_Description'] = train_df['Description'].apply(clean_text)\n",
        "test_df['Cleaned_Description'] = test_df['Description'].apply(clean_text)"
      ],
      "metadata": {
        "id": "Uk254JSHZKai",
        "colab": {
          "base_uri": "https://localhost:8080/"
        },
        "outputId": "33cb7d13-f26e-453f-ddf7-8c3722cb0a6a"
      },
      "execution_count": 7,
      "outputs": [
        {
          "output_type": "stream",
          "name": "stderr",
          "text": [
            "[nltk_data] Downloading package stopwords to /root/nltk_data...\n",
            "[nltk_data]   Unzipping corpora/stopwords.zip.\n"
          ]
        }
      ]
    },
    {
      "cell_type": "markdown",
      "source": [
        "**Genre Preprocessing (for train data)**"
      ],
      "metadata": {
        "id": "-uWtEhfsgVVD"
      }
    },
    {
      "cell_type": "code",
      "source": [
        "# Handle multiple genres — split by comma and strip\n",
        "train_df['Genre_List'] = train_df['Genre'].apply(lambda x: [g.strip() for g in x.split(',')])\n",
        "\n",
        "# Initialize MultiLabelBinarizer\n",
        "from sklearn.preprocessing import MultiLabelBinarizer\n",
        "\n",
        "mlb = MultiLabelBinarizer()\n",
        "y = mlb.fit_transform(train_df['Genre_List'])\n",
        "\n",
        "# Show all genre classes\n",
        "print(\"Genre classes:\", mlb.classes_)"
      ],
      "metadata": {
        "colab": {
          "base_uri": "https://localhost:8080/"
        },
        "id": "96Q5TuqggI31",
        "outputId": "da8bb207-e6fe-4816-9223-245e9fafbbf1"
      },
      "execution_count": 8,
      "outputs": [
        {
          "output_type": "stream",
          "name": "stdout",
          "text": [
            "Genre classes: ['action' 'adult' 'adventure' 'animation' 'biography' 'comedy' 'crime'\n",
            " 'documentary' 'drama' 'family' 'fantasy' 'game-show' 'history' 'horror'\n",
            " 'music' 'musical' 'mystery' 'news' 'reality-tv' 'romance' 'sci-fi'\n",
            " 'short' 'sport' 'talk-show' 'thriller' 'war' 'western']\n"
          ]
        }
      ]
    },
    {
      "cell_type": "markdown",
      "source": [
        "**Train/Validation Split**"
      ],
      "metadata": {
        "id": "4uHIFkWqgrAk"
      }
    },
    {
      "cell_type": "code",
      "source": [
        "from sklearn.model_selection import train_test_split\n",
        "\n",
        "# Features and Labels\n",
        "X = train_df['Cleaned_Description']\n",
        "y = mlb.transform(train_df['Genre_List'])  # ensure correct format\n",
        "\n",
        "# Split\n",
        "X_train, X_val, y_train, y_val = train_test_split(X, y, test_size=0.2, random_state=42)"
      ],
      "metadata": {
        "id": "67gfABRJgsnn"
      },
      "execution_count": 9,
      "outputs": []
    },
    {
      "cell_type": "markdown",
      "source": [
        "**TF-IDF Vectorization**"
      ],
      "metadata": {
        "id": "tb_oNDrpgv1p"
      }
    },
    {
      "cell_type": "code",
      "source": [
        "from sklearn.feature_extraction.text import TfidfVectorizer\n",
        "\n",
        "# Fit vectorizer on training text only\n",
        "vectorizer = TfidfVectorizer(max_features=10000, ngram_range=(1, 2))\n",
        "X_train_vec = vectorizer.fit_transform(X_train)\n",
        "X_val_vec = vectorizer.transform(X_val)\n",
        "X_test_vec = vectorizer.transform(test_df['Cleaned_Description'])"
      ],
      "metadata": {
        "id": "2qCD9q4Og1SB"
      },
      "execution_count": 10,
      "outputs": []
    },
    {
      "cell_type": "markdown",
      "source": [
        "**Model Training and Evaluation**"
      ],
      "metadata": {
        "id": "3psM6t6nhAeM"
      }
    },
    {
      "cell_type": "code",
      "source": [
        "from sklearn.linear_model import LogisticRegression\n",
        "from sklearn.multiclass import OneVsRestClassifier\n",
        "from sklearn.metrics import classification_report, accuracy_score\n",
        "\n",
        "# Train logistic regression\n",
        "lr_clf = OneVsRestClassifier(LogisticRegression(max_iter=1000))\n",
        "lr_clf.fit(X_train_vec, y_train)\n",
        "\n",
        "# Predict on validation data\n",
        "y_val_pred_lr = lr_clf.predict(X_val_vec)\n",
        "\n",
        "# Evaluation\n",
        "print(\"Logistic Regression Classification Report:\")\n",
        "print(classification_report(y_val, y_val_pred_lr, target_names=mlb.classes_))"
      ],
      "metadata": {
        "colab": {
          "base_uri": "https://localhost:8080/"
        },
        "id": "YuTI_ucfg57E",
        "outputId": "4cd48d45-fce5-419a-92e8-6f062e13fcf2"
      },
      "execution_count": 11,
      "outputs": [
        {
          "output_type": "stream",
          "name": "stdout",
          "text": [
            "Logistic Regression Classification Report:\n",
            "              precision    recall  f1-score   support\n",
            "\n",
            "      action       0.86      0.05      0.09       263\n",
            "       adult       0.78      0.06      0.12       112\n",
            "   adventure       0.43      0.04      0.08       139\n",
            "   animation       0.00      0.00      0.00       104\n",
            "   biography       0.00      0.00      0.00        61\n",
            "      comedy       0.74      0.29      0.42      1443\n",
            "       crime       0.00      0.00      0.00       107\n",
            " documentary       0.81      0.67      0.73      2659\n",
            "       drama       0.68      0.46      0.55      2697\n",
            "      family       1.00      0.02      0.04       150\n",
            "     fantasy       0.00      0.00      0.00        74\n",
            "   game-show       1.00      0.23      0.37        40\n",
            "     history       0.00      0.00      0.00        45\n",
            "      horror       0.82      0.32      0.46       431\n",
            "       music       0.67      0.23      0.34       144\n",
            "     musical       0.00      0.00      0.00        50\n",
            "     mystery       0.00      0.00      0.00        56\n",
            "        news       0.00      0.00      0.00        34\n",
            "  reality-tv       0.86      0.03      0.06       192\n",
            "     romance       0.00      0.00      0.00       151\n",
            "      sci-fi       0.73      0.06      0.10       143\n",
            "       short       0.76      0.11      0.19      1045\n",
            "       sport       0.70      0.08      0.14        93\n",
            "   talk-show       1.00      0.04      0.07        81\n",
            "    thriller       0.60      0.03      0.06       309\n",
            "         war       0.00      0.00      0.00        20\n",
            "     western       1.00      0.50      0.67       200\n",
            "\n",
            "   micro avg       0.76      0.36      0.49     10843\n",
            "   macro avg       0.50      0.12      0.17     10843\n",
            "weighted avg       0.71      0.36      0.44     10843\n",
            " samples avg       0.36      0.36      0.36     10843\n",
            "\n"
          ]
        },
        {
          "output_type": "stream",
          "name": "stderr",
          "text": [
            "/usr/local/lib/python3.11/dist-packages/sklearn/metrics/_classification.py:1565: UndefinedMetricWarning: Precision is ill-defined and being set to 0.0 in labels with no predicted samples. Use `zero_division` parameter to control this behavior.\n",
            "  _warn_prf(average, modifier, f\"{metric.capitalize()} is\", len(result))\n",
            "/usr/local/lib/python3.11/dist-packages/sklearn/metrics/_classification.py:1565: UndefinedMetricWarning: Precision is ill-defined and being set to 0.0 in samples with no predicted labels. Use `zero_division` parameter to control this behavior.\n",
            "  _warn_prf(average, modifier, f\"{metric.capitalize()} is\", len(result))\n"
          ]
        }
      ]
    },
    {
      "cell_type": "markdown",
      "source": [
        "**Multinomial Naive Bayes**"
      ],
      "metadata": {
        "id": "SYbNi6lkhJd1"
      }
    },
    {
      "cell_type": "code",
      "source": [
        "from sklearn.naive_bayes import MultinomialNB\n",
        "\n",
        "nb_clf = OneVsRestClassifier(MultinomialNB())\n",
        "nb_clf.fit(X_train_vec, y_train)\n",
        "\n",
        "y_val_pred_nb = nb_clf.predict(X_val_vec)\n",
        "\n",
        "print(\"Multinomial Naive Bayes Classification Report:\")\n",
        "print(classification_report(y_val, y_val_pred_nb, target_names=mlb.classes_))\n"
      ],
      "metadata": {
        "colab": {
          "base_uri": "https://localhost:8080/"
        },
        "id": "fWDOJlwxhD-l",
        "outputId": "34ab8529-3ea3-4cce-c9be-15fd64c6b51f"
      },
      "execution_count": 12,
      "outputs": [
        {
          "output_type": "stream",
          "name": "stdout",
          "text": [
            "Multinomial Naive Bayes Classification Report:\n",
            "              precision    recall  f1-score   support\n",
            "\n",
            "      action       0.00      0.00      0.00       263\n",
            "       adult       0.00      0.00      0.00       112\n",
            "   adventure       0.00      0.00      0.00       139\n",
            "   animation       0.00      0.00      0.00       104\n",
            "   biography       0.00      0.00      0.00        61\n",
            "      comedy       0.69      0.09      0.16      1443\n",
            "       crime       0.00      0.00      0.00       107\n",
            " documentary       0.75      0.64      0.69      2659\n",
            "       drama       0.67      0.37      0.47      2697\n",
            "      family       0.00      0.00      0.00       150\n",
            "     fantasy       0.00      0.00      0.00        74\n",
            "   game-show       0.00      0.00      0.00        40\n",
            "     history       0.00      0.00      0.00        45\n",
            "      horror       1.00      0.04      0.08       431\n",
            "       music       1.00      0.01      0.03       144\n",
            "     musical       0.00      0.00      0.00        50\n",
            "     mystery       0.00      0.00      0.00        56\n",
            "        news       0.00      0.00      0.00        34\n",
            "  reality-tv       0.00      0.00      0.00       192\n",
            "     romance       0.00      0.00      0.00       151\n",
            "      sci-fi       0.00      0.00      0.00       143\n",
            "       short       0.86      0.01      0.02      1045\n",
            "       sport       0.60      0.03      0.06        93\n",
            "   talk-show       0.00      0.00      0.00        81\n",
            "    thriller       0.00      0.00      0.00       309\n",
            "         war       0.00      0.00      0.00        20\n",
            "     western       1.00      0.28      0.43       200\n",
            "\n",
            "   micro avg       0.72      0.27      0.39     10843\n",
            "   macro avg       0.24      0.05      0.07     10843\n",
            "weighted avg       0.60      0.27      0.32     10843\n",
            " samples avg       0.27      0.27      0.27     10843\n",
            "\n"
          ]
        },
        {
          "output_type": "stream",
          "name": "stderr",
          "text": [
            "/usr/local/lib/python3.11/dist-packages/sklearn/metrics/_classification.py:1565: UndefinedMetricWarning: Precision is ill-defined and being set to 0.0 in labels with no predicted samples. Use `zero_division` parameter to control this behavior.\n",
            "  _warn_prf(average, modifier, f\"{metric.capitalize()} is\", len(result))\n",
            "/usr/local/lib/python3.11/dist-packages/sklearn/metrics/_classification.py:1565: UndefinedMetricWarning: Precision is ill-defined and being set to 0.0 in samples with no predicted labels. Use `zero_division` parameter to control this behavior.\n",
            "  _warn_prf(average, modifier, f\"{metric.capitalize()} is\", len(result))\n"
          ]
        }
      ]
    },
    {
      "cell_type": "markdown",
      "source": [
        "Random Forest (Slower but may be tried)"
      ],
      "metadata": {
        "id": "DEJTDbtehPQB"
      }
    },
    {
      "cell_type": "code",
      "source": [
        "from sklearn.ensemble import RandomForestClassifier\n",
        "\n",
        "rf_clf = OneVsRestClassifier(RandomForestClassifier(n_estimators=100, random_state=42))\n",
        "rf_clf.fit(X_train_vec, y_train)\n",
        "\n",
        "y_val_pred_rf = rf_clf.predict(X_val_vec)\n",
        "\n",
        "print(\"Random Forest Classification Report:\")\n",
        "print(classification_report(y_val, y_val_pred_rf, target_names=mlb.classes_))\n"
      ],
      "metadata": {
        "colab": {
          "base_uri": "https://localhost:8080/"
        },
        "id": "JVAgWo9DhNgQ",
        "outputId": "1bdd7f07-4c9b-471f-cd24-88f76c441110"
      },
      "execution_count": 13,
      "outputs": [
        {
          "output_type": "stream",
          "name": "stdout",
          "text": [
            "Random Forest Classification Report:\n",
            "              precision    recall  f1-score   support\n",
            "\n",
            "      action       0.00      0.00      0.00       263\n",
            "       adult       1.00      0.02      0.04       112\n",
            "   adventure       0.33      0.01      0.01       139\n",
            "   animation       0.00      0.00      0.00       104\n",
            "   biography       0.00      0.00      0.00        61\n",
            "      comedy       0.76      0.14      0.23      1443\n",
            "       crime       1.00      0.01      0.02       107\n",
            " documentary       0.84      0.51      0.63      2659\n",
            "       drama       0.74      0.15      0.25      2697\n",
            "      family       0.80      0.03      0.05       150\n",
            "     fantasy       0.00      0.00      0.00        74\n",
            "   game-show       1.00      0.12      0.22        40\n",
            "     history       0.00      0.00      0.00        45\n",
            "      horror       0.73      0.02      0.04       431\n",
            "       music       1.00      0.03      0.07       144\n",
            "     musical       0.00      0.00      0.00        50\n",
            "     mystery       0.00      0.00      0.00        56\n",
            "        news       0.00      0.00      0.00        34\n",
            "  reality-tv       0.00      0.00      0.00       192\n",
            "     romance       0.00      0.00      0.00       151\n",
            "      sci-fi       0.00      0.00      0.00       143\n",
            "       short       0.82      0.05      0.09      1045\n",
            "       sport       1.00      0.01      0.02        93\n",
            "   talk-show       1.00      0.02      0.05        81\n",
            "    thriller       0.00      0.00      0.00       309\n",
            "         war       1.00      0.05      0.10        20\n",
            "     western       1.00      0.28      0.44       200\n",
            "\n",
            "   micro avg       0.81      0.19      0.31     10843\n",
            "   macro avg       0.48      0.05      0.08     10843\n",
            "weighted avg       0.69      0.19      0.27     10843\n",
            " samples avg       0.19      0.19      0.19     10843\n",
            "\n"
          ]
        },
        {
          "output_type": "stream",
          "name": "stderr",
          "text": [
            "/usr/local/lib/python3.11/dist-packages/sklearn/metrics/_classification.py:1565: UndefinedMetricWarning: Precision is ill-defined and being set to 0.0 in labels with no predicted samples. Use `zero_division` parameter to control this behavior.\n",
            "  _warn_prf(average, modifier, f\"{metric.capitalize()} is\", len(result))\n",
            "/usr/local/lib/python3.11/dist-packages/sklearn/metrics/_classification.py:1565: UndefinedMetricWarning: Precision is ill-defined and being set to 0.0 in samples with no predicted labels. Use `zero_division` parameter to control this behavior.\n",
            "  _warn_prf(average, modifier, f\"{metric.capitalize()} is\", len(result))\n"
          ]
        }
      ]
    },
    {
      "cell_type": "markdown",
      "source": [
        "**Final Step (Optional but Recommended for Completion)**"
      ],
      "metadata": {
        "id": "OOo_-RvghdB-"
      }
    },
    {
      "cell_type": "code",
      "source": [
        "# Predict genres for test data using the best model (e.g., Logistic Regression)\n",
        "test_pred = lr_clf.predict(X_test_vec)\n",
        "\n",
        "# Convert predictions back to genre labels\n",
        "predicted_genres = mlb.inverse_transform(test_pred)\n",
        "\n",
        "# Add predictions to the test DataFrame\n",
        "test_df['Predicted Genres'] = predicted_genres\n",
        "\n",
        "# Save to CSV (for GitHub or analysis)\n",
        "test_df[['ID', 'Predicted Genres']].to_csv('submission.csv', index=False)\n",
        "\n",
        "# View first few rows\n",
        "test_df[['ID', 'Predicted Genres']].head()\n"
      ],
      "metadata": {
        "colab": {
          "base_uri": "https://localhost:8080/",
          "height": 206
        },
        "id": "BWhd6hCahSUv",
        "outputId": "e5fb4dc1-8c54-4486-bd21-7d47e9520b83"
      },
      "execution_count": 14,
      "outputs": [
        {
          "output_type": "execute_result",
          "data": {
            "text/plain": [
              "   ID Predicted Genres\n",
              "0   1               ()\n",
              "1   2         (drama,)\n",
              "2   3   (documentary,)\n",
              "3   4         (drama,)\n",
              "4   5               ()"
            ],
            "text/html": [
              "\n",
              "  <div id=\"df-294f2df4-8296-4efe-b56b-57991f508277\" class=\"colab-df-container\">\n",
              "    <div>\n",
              "<style scoped>\n",
              "    .dataframe tbody tr th:only-of-type {\n",
              "        vertical-align: middle;\n",
              "    }\n",
              "\n",
              "    .dataframe tbody tr th {\n",
              "        vertical-align: top;\n",
              "    }\n",
              "\n",
              "    .dataframe thead th {\n",
              "        text-align: right;\n",
              "    }\n",
              "</style>\n",
              "<table border=\"1\" class=\"dataframe\">\n",
              "  <thead>\n",
              "    <tr style=\"text-align: right;\">\n",
              "      <th></th>\n",
              "      <th>ID</th>\n",
              "      <th>Predicted Genres</th>\n",
              "    </tr>\n",
              "  </thead>\n",
              "  <tbody>\n",
              "    <tr>\n",
              "      <th>0</th>\n",
              "      <td>1</td>\n",
              "      <td>()</td>\n",
              "    </tr>\n",
              "    <tr>\n",
              "      <th>1</th>\n",
              "      <td>2</td>\n",
              "      <td>(drama,)</td>\n",
              "    </tr>\n",
              "    <tr>\n",
              "      <th>2</th>\n",
              "      <td>3</td>\n",
              "      <td>(documentary,)</td>\n",
              "    </tr>\n",
              "    <tr>\n",
              "      <th>3</th>\n",
              "      <td>4</td>\n",
              "      <td>(drama,)</td>\n",
              "    </tr>\n",
              "    <tr>\n",
              "      <th>4</th>\n",
              "      <td>5</td>\n",
              "      <td>()</td>\n",
              "    </tr>\n",
              "  </tbody>\n",
              "</table>\n",
              "</div>\n",
              "    <div class=\"colab-df-buttons\">\n",
              "\n",
              "  <div class=\"colab-df-container\">\n",
              "    <button class=\"colab-df-convert\" onclick=\"convertToInteractive('df-294f2df4-8296-4efe-b56b-57991f508277')\"\n",
              "            title=\"Convert this dataframe to an interactive table.\"\n",
              "            style=\"display:none;\">\n",
              "\n",
              "  <svg xmlns=\"http://www.w3.org/2000/svg\" height=\"24px\" viewBox=\"0 -960 960 960\">\n",
              "    <path d=\"M120-120v-720h720v720H120Zm60-500h600v-160H180v160Zm220 220h160v-160H400v160Zm0 220h160v-160H400v160ZM180-400h160v-160H180v160Zm440 0h160v-160H620v160ZM180-180h160v-160H180v160Zm440 0h160v-160H620v160Z\"/>\n",
              "  </svg>\n",
              "    </button>\n",
              "\n",
              "  <style>\n",
              "    .colab-df-container {\n",
              "      display:flex;\n",
              "      gap: 12px;\n",
              "    }\n",
              "\n",
              "    .colab-df-convert {\n",
              "      background-color: #E8F0FE;\n",
              "      border: none;\n",
              "      border-radius: 50%;\n",
              "      cursor: pointer;\n",
              "      display: none;\n",
              "      fill: #1967D2;\n",
              "      height: 32px;\n",
              "      padding: 0 0 0 0;\n",
              "      width: 32px;\n",
              "    }\n",
              "\n",
              "    .colab-df-convert:hover {\n",
              "      background-color: #E2EBFA;\n",
              "      box-shadow: 0px 1px 2px rgba(60, 64, 67, 0.3), 0px 1px 3px 1px rgba(60, 64, 67, 0.15);\n",
              "      fill: #174EA6;\n",
              "    }\n",
              "\n",
              "    .colab-df-buttons div {\n",
              "      margin-bottom: 4px;\n",
              "    }\n",
              "\n",
              "    [theme=dark] .colab-df-convert {\n",
              "      background-color: #3B4455;\n",
              "      fill: #D2E3FC;\n",
              "    }\n",
              "\n",
              "    [theme=dark] .colab-df-convert:hover {\n",
              "      background-color: #434B5C;\n",
              "      box-shadow: 0px 1px 3px 1px rgba(0, 0, 0, 0.15);\n",
              "      filter: drop-shadow(0px 1px 2px rgba(0, 0, 0, 0.3));\n",
              "      fill: #FFFFFF;\n",
              "    }\n",
              "  </style>\n",
              "\n",
              "    <script>\n",
              "      const buttonEl =\n",
              "        document.querySelector('#df-294f2df4-8296-4efe-b56b-57991f508277 button.colab-df-convert');\n",
              "      buttonEl.style.display =\n",
              "        google.colab.kernel.accessAllowed ? 'block' : 'none';\n",
              "\n",
              "      async function convertToInteractive(key) {\n",
              "        const element = document.querySelector('#df-294f2df4-8296-4efe-b56b-57991f508277');\n",
              "        const dataTable =\n",
              "          await google.colab.kernel.invokeFunction('convertToInteractive',\n",
              "                                                    [key], {});\n",
              "        if (!dataTable) return;\n",
              "\n",
              "        const docLinkHtml = 'Like what you see? Visit the ' +\n",
              "          '<a target=\"_blank\" href=https://colab.research.google.com/notebooks/data_table.ipynb>data table notebook</a>'\n",
              "          + ' to learn more about interactive tables.';\n",
              "        element.innerHTML = '';\n",
              "        dataTable['output_type'] = 'display_data';\n",
              "        await google.colab.output.renderOutput(dataTable, element);\n",
              "        const docLink = document.createElement('div');\n",
              "        docLink.innerHTML = docLinkHtml;\n",
              "        element.appendChild(docLink);\n",
              "      }\n",
              "    </script>\n",
              "  </div>\n",
              "\n",
              "\n",
              "<div id=\"df-c40515b2-d75c-4d44-99d7-b1f4d7a8e14a\">\n",
              "  <button class=\"colab-df-quickchart\" onclick=\"quickchart('df-c40515b2-d75c-4d44-99d7-b1f4d7a8e14a')\"\n",
              "            title=\"Suggest charts\"\n",
              "            style=\"display:none;\">\n",
              "\n",
              "<svg xmlns=\"http://www.w3.org/2000/svg\" height=\"24px\"viewBox=\"0 0 24 24\"\n",
              "     width=\"24px\">\n",
              "    <g>\n",
              "        <path d=\"M19 3H5c-1.1 0-2 .9-2 2v14c0 1.1.9 2 2 2h14c1.1 0 2-.9 2-2V5c0-1.1-.9-2-2-2zM9 17H7v-7h2v7zm4 0h-2V7h2v10zm4 0h-2v-4h2v4z\"/>\n",
              "    </g>\n",
              "</svg>\n",
              "  </button>\n",
              "\n",
              "<style>\n",
              "  .colab-df-quickchart {\n",
              "      --bg-color: #E8F0FE;\n",
              "      --fill-color: #1967D2;\n",
              "      --hover-bg-color: #E2EBFA;\n",
              "      --hover-fill-color: #174EA6;\n",
              "      --disabled-fill-color: #AAA;\n",
              "      --disabled-bg-color: #DDD;\n",
              "  }\n",
              "\n",
              "  [theme=dark] .colab-df-quickchart {\n",
              "      --bg-color: #3B4455;\n",
              "      --fill-color: #D2E3FC;\n",
              "      --hover-bg-color: #434B5C;\n",
              "      --hover-fill-color: #FFFFFF;\n",
              "      --disabled-bg-color: #3B4455;\n",
              "      --disabled-fill-color: #666;\n",
              "  }\n",
              "\n",
              "  .colab-df-quickchart {\n",
              "    background-color: var(--bg-color);\n",
              "    border: none;\n",
              "    border-radius: 50%;\n",
              "    cursor: pointer;\n",
              "    display: none;\n",
              "    fill: var(--fill-color);\n",
              "    height: 32px;\n",
              "    padding: 0;\n",
              "    width: 32px;\n",
              "  }\n",
              "\n",
              "  .colab-df-quickchart:hover {\n",
              "    background-color: var(--hover-bg-color);\n",
              "    box-shadow: 0 1px 2px rgba(60, 64, 67, 0.3), 0 1px 3px 1px rgba(60, 64, 67, 0.15);\n",
              "    fill: var(--button-hover-fill-color);\n",
              "  }\n",
              "\n",
              "  .colab-df-quickchart-complete:disabled,\n",
              "  .colab-df-quickchart-complete:disabled:hover {\n",
              "    background-color: var(--disabled-bg-color);\n",
              "    fill: var(--disabled-fill-color);\n",
              "    box-shadow: none;\n",
              "  }\n",
              "\n",
              "  .colab-df-spinner {\n",
              "    border: 2px solid var(--fill-color);\n",
              "    border-color: transparent;\n",
              "    border-bottom-color: var(--fill-color);\n",
              "    animation:\n",
              "      spin 1s steps(1) infinite;\n",
              "  }\n",
              "\n",
              "  @keyframes spin {\n",
              "    0% {\n",
              "      border-color: transparent;\n",
              "      border-bottom-color: var(--fill-color);\n",
              "      border-left-color: var(--fill-color);\n",
              "    }\n",
              "    20% {\n",
              "      border-color: transparent;\n",
              "      border-left-color: var(--fill-color);\n",
              "      border-top-color: var(--fill-color);\n",
              "    }\n",
              "    30% {\n",
              "      border-color: transparent;\n",
              "      border-left-color: var(--fill-color);\n",
              "      border-top-color: var(--fill-color);\n",
              "      border-right-color: var(--fill-color);\n",
              "    }\n",
              "    40% {\n",
              "      border-color: transparent;\n",
              "      border-right-color: var(--fill-color);\n",
              "      border-top-color: var(--fill-color);\n",
              "    }\n",
              "    60% {\n",
              "      border-color: transparent;\n",
              "      border-right-color: var(--fill-color);\n",
              "    }\n",
              "    80% {\n",
              "      border-color: transparent;\n",
              "      border-right-color: var(--fill-color);\n",
              "      border-bottom-color: var(--fill-color);\n",
              "    }\n",
              "    90% {\n",
              "      border-color: transparent;\n",
              "      border-bottom-color: var(--fill-color);\n",
              "    }\n",
              "  }\n",
              "</style>\n",
              "\n",
              "  <script>\n",
              "    async function quickchart(key) {\n",
              "      const quickchartButtonEl =\n",
              "        document.querySelector('#' + key + ' button');\n",
              "      quickchartButtonEl.disabled = true;  // To prevent multiple clicks.\n",
              "      quickchartButtonEl.classList.add('colab-df-spinner');\n",
              "      try {\n",
              "        const charts = await google.colab.kernel.invokeFunction(\n",
              "            'suggestCharts', [key], {});\n",
              "      } catch (error) {\n",
              "        console.error('Error during call to suggestCharts:', error);\n",
              "      }\n",
              "      quickchartButtonEl.classList.remove('colab-df-spinner');\n",
              "      quickchartButtonEl.classList.add('colab-df-quickchart-complete');\n",
              "    }\n",
              "    (() => {\n",
              "      let quickchartButtonEl =\n",
              "        document.querySelector('#df-c40515b2-d75c-4d44-99d7-b1f4d7a8e14a button');\n",
              "      quickchartButtonEl.style.display =\n",
              "        google.colab.kernel.accessAllowed ? 'block' : 'none';\n",
              "    })();\n",
              "  </script>\n",
              "</div>\n",
              "\n",
              "    </div>\n",
              "  </div>\n"
            ],
            "application/vnd.google.colaboratory.intrinsic+json": {
              "type": "dataframe",
              "summary": "{\n  \"name\": \"test_df[['ID', 'Predicted Genres']]\",\n  \"rows\": 5,\n  \"fields\": [\n    {\n      \"column\": \"ID\",\n      \"properties\": {\n        \"dtype\": \"number\",\n        \"std\": 1,\n        \"min\": 1,\n        \"max\": 5,\n        \"num_unique_values\": 5,\n        \"samples\": [\n          2,\n          5,\n          3\n        ],\n        \"semantic_type\": \"\",\n        \"description\": \"\"\n      }\n    },\n    {\n      \"column\": \"Predicted Genres\",\n      \"properties\": {\n        \"dtype\": \"string\",\n        \"num_unique_values\": 3,\n        \"samples\": [\n          [],\n          [\n            \"drama\"\n          ],\n          [\n            \"documentary\"\n          ]\n        ],\n        \"semantic_type\": \"\",\n        \"description\": \"\"\n      }\n    }\n  ]\n}"
            }
          },
          "metadata": {},
          "execution_count": 14
        }
      ]
    },
    {
      "cell_type": "code",
      "source": [],
      "metadata": {
        "id": "MGuoBSeZnjjk"
      },
      "execution_count": null,
      "outputs": []
    }
  ]
}